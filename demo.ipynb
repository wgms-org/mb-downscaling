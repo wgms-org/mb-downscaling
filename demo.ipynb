{
 "cells": [
  {
   "attachments": {},
   "cell_type": "markdown",
   "metadata": {},
   "source": [
    "# Example usage\n",
    "\n",
    "Run this notebook locally or via free cloud platforms:\n",
    "\n",
    "[![Binder](https://mybinder.org/badge_logo.svg)](https://mybinder.org/v2/gh/wgms-org/mb-downscaling/main?labpath=demo.ipynb)"
   ]
  },
  {
   "attachments": {},
   "cell_type": "markdown",
   "metadata": {},
   "source": [
    "## Import packages"
   ]
  },
  {
   "cell_type": "code",
   "execution_count": 1,
   "metadata": {},
   "outputs": [],
   "source": [
    "import datetime\n",
    "\n",
    "import matplotlib.pyplot as plt\n",
    "import numpy as np\n",
    "import pandas as pd\n",
    "\n",
    "import mb_downscaling"
   ]
  },
  {
   "cell_type": "markdown",
   "metadata": {},
   "source": [
    "## Represent mass balance with sine functions\n",
    "\n",
    "The mass balance over a hydrological year (an annual winter-summer cycle) is represented by separate sine functions for the winter (accumulation) and summer (ablation) seasons."
   ]
  },
  {
   "cell_type": "code",
   "execution_count": 2,
   "metadata": {},
   "outputs": [
    {
     "data": {
      "image/png": "[encoded data removed]",
      "text/plain": [
       "<Figure size 640x480 with 1 Axes>"
      ]
     },
     "metadata": {},
     "output_type": "display_data"
    }
   ],
   "source": [
    "# Parameters\n",
    "winter_balance = 2  # Total mass balance over winter\n",
    "summer_balance = -3  # Total mass balance over summer\n",
    "winter_fraction = 0.6  # Length of winter as fraction of year\n",
    "\n",
    "# Define a sine function for each season\n",
    "winter_sine = mb_downscaling.generate_seasonal_sine(\n",
    "  balance=winter_balance, interval=(0, winter_fraction)\n",
    ")\n",
    "summer_sine = mb_downscaling.generate_seasonal_sine(\n",
    "  balance=summer_balance, interval=(winter_fraction, 1)\n",
    ")\n",
    "\n",
    "# Calculate balance as the sum of the (masked) winter and summer sine functions\n",
    "time = np.linspace(0, 1, 100)\n",
    "balance = (\n",
    "  mb_downscaling.evaluate_sine(time, **winter_sine, mask=(0, winter_fraction)) +\n",
    "  mb_downscaling.evaluate_sine(time, **summer_sine, mask=(winter_fraction, 1))\n",
    ")\n",
    "\n",
    "# Plot the result\n",
    "plt.plot(time, balance)\n",
    "plt.ylabel('Balance')\n",
    "plt.xlabel('Time [years]')\n",
    "plt.show()"
   ]
  },
  {
   "cell_type": "markdown",
   "metadata": {},
   "source": [
    "Generally, we are interested in the mass balance over an interval of time. This can be calculated by taking the definite integral of the sine functions above. As an example, we check that seasonal balances calculated by this method are equal to the seasonal balances defined above."
   ]
  },
  {
   "cell_type": "code",
   "execution_count": 3,
   "metadata": {},
   "outputs": [
    {
     "name": "stdout",
     "output_type": "stream",
     "text": [
      "2 [2.]\n",
      "-3 [-3.]\n"
     ]
    }
   ],
   "source": [
    "print(\n",
    "  winter_balance,\n",
    "  mb_downscaling.integrate_sine([(0, winter_fraction)], **winter_sine)\n",
    ")\n",
    "print(\n",
    "  summer_balance,\n",
    "  mb_downscaling.integrate_sine([(winter_fraction, 1)], **summer_sine)\n",
    ")"
   ]
  },
  {
   "attachments": {},
   "cell_type": "markdown",
   "metadata": {},
   "source": [
    "## Create a test dataset\n",
    "\n",
    "For the steps that follow, we will use a timeseries of seasonal (or in some years, just annual) mass balance measurements."
   ]
  },
  {
   "cell_type": "code",
   "execution_count": 4,
   "metadata": {},
   "outputs": [
    {
     "data": {
      "text/html": [
       "<div>\n",
       "<style scoped>\n",
       "    .dataframe tbody tr th:only-of-type {\n",
       "        vertical-align: middle;\n",
       "    }\n",
       "\n",
       "    .dataframe tbody tr th {\n",
       "        vertical-align: top;\n",
       "    }\n",
       "\n",
       "    .dataframe thead th {\n",
       "        text-align: right;\n",
       "    }\n",
       "</style>\n",
       "<table border=\"1\" class=\"dataframe\">\n",
       "  <thead>\n",
       "    <tr style=\"text-align: right;\">\n",
       "      <th></th>\n",
       "      <th>year</th>\n",
       "      <th>winter_balance</th>\n",
       "      <th>summer_balance</th>\n",
       "      <th>annual_balance</th>\n",
       "    </tr>\n",
       "  </thead>\n",
       "  <tbody>\n",
       "    <tr>\n",
       "      <th>0</th>\n",
       "      <td>2000</td>\n",
       "      <td>NaN</td>\n",
       "      <td>NaN</td>\n",
       "      <td>-500</td>\n",
       "    </tr>\n",
       "    <tr>\n",
       "      <th>1</th>\n",
       "      <td>2001</td>\n",
       "      <td>NaN</td>\n",
       "      <td>NaN</td>\n",
       "      <td>-250</td>\n",
       "    </tr>\n",
       "    <tr>\n",
       "      <th>2</th>\n",
       "      <td>2002</td>\n",
       "      <td>NaN</td>\n",
       "      <td>NaN</td>\n",
       "      <td>0</td>\n",
       "    </tr>\n",
       "    <tr>\n",
       "      <th>3</th>\n",
       "      <td>2003</td>\n",
       "      <td>NaN</td>\n",
       "      <td>NaN</td>\n",
       "      <td>100</td>\n",
       "    </tr>\n",
       "    <tr>\n",
       "      <th>4</th>\n",
       "      <td>2004</td>\n",
       "      <td>NaN</td>\n",
       "      <td>NaN</td>\n",
       "      <td>-1500</td>\n",
       "    </tr>\n",
       "    <tr>\n",
       "      <th>5</th>\n",
       "      <td>2005</td>\n",
       "      <td>1000.0</td>\n",
       "      <td>-1500.0</td>\n",
       "      <td>-500</td>\n",
       "    </tr>\n",
       "    <tr>\n",
       "      <th>6</th>\n",
       "      <td>2006</td>\n",
       "      <td>1000.0</td>\n",
       "      <td>-1250.0</td>\n",
       "      <td>-250</td>\n",
       "    </tr>\n",
       "    <tr>\n",
       "      <th>7</th>\n",
       "      <td>2007</td>\n",
       "      <td>750.0</td>\n",
       "      <td>-750.0</td>\n",
       "      <td>0</td>\n",
       "    </tr>\n",
       "    <tr>\n",
       "      <th>8</th>\n",
       "      <td>2008</td>\n",
       "      <td>1500.0</td>\n",
       "      <td>-1400.0</td>\n",
       "      <td>100</td>\n",
       "    </tr>\n",
       "    <tr>\n",
       "      <th>9</th>\n",
       "      <td>2009</td>\n",
       "      <td>1000.0</td>\n",
       "      <td>-2500.0</td>\n",
       "      <td>-1500</td>\n",
       "    </tr>\n",
       "  </tbody>\n",
       "</table>\n",
       "</div>"
      ],
      "text/plain": [
       "   year  winter_balance  summer_balance  annual_balance\n",
       "0  2000             NaN             NaN            -500\n",
       "1  2001             NaN             NaN            -250\n",
       "2  2002             NaN             NaN               0\n",
       "3  2003             NaN             NaN             100\n",
       "4  2004             NaN             NaN           -1500\n",
       "5  2005          1000.0         -1500.0            -500\n",
       "6  2006          1000.0         -1250.0            -250\n",
       "7  2007           750.0          -750.0               0\n",
       "8  2008          1500.0         -1400.0             100\n",
       "9  2009          1000.0         -2500.0           -1500"
      ]
     },
     "execution_count": 4,
     "metadata": {},
     "output_type": "execute_result"
    }
   ],
   "source": [
    "df = pd.DataFrame(\n",
    "  data=[\n",
    "    [2000, np.nan, np.nan, -500],\n",
    "    [2001, np.nan, np.nan, -250],\n",
    "    [2002, np.nan, np.nan, 0],\n",
    "    [2003, np.nan, np.nan, 100],\n",
    "    [2004, np.nan, np.nan, -1500],\n",
    "    [2005, 1000, -1500, -500],\n",
    "    [2006, 1000, -1250, -250],\n",
    "    [2007, 750, -750, 0],\n",
    "    [2008, 1500, -1400, 100],\n",
    "    [2009, 1000, -2500, -1500]\n",
    "  ],\n",
    "  columns=['year', 'winter_balance', 'summer_balance', 'annual_balance']\n",
    ")\n",
    "df"
   ]
  },
  {
   "attachments": {},
   "cell_type": "markdown",
   "metadata": {},
   "source": [
    "## Fill missing seasonal balances\n",
    "\n",
    "We can estimate the missing seasonal balances from the annual balance and an assumed mass-balance amplitude. One option for the latter is the mean of the mass-balance amplitudes calculated for each year with seasonal balances."
   ]
  },
  {
   "cell_type": "code",
   "execution_count": 5,
   "metadata": {},
   "outputs": [
    {
     "data": {
      "text/plain": [
       "1265.0"
      ]
     },
     "execution_count": 5,
     "metadata": {},
     "output_type": "execute_result"
    }
   ],
   "source": [
    "balance_amplitude = mb_downscaling.calculate_balance_amplitude(\n",
    "  winter_balance=df['winter_balance'],\n",
    "  summer_balance=df['summer_balance']\n",
    ")\n",
    "balance_amplitude.mean()"
   ]
  },
  {
   "cell_type": "markdown",
   "metadata": {},
   "source": [
    "This is the default strategy used by `fill_balances`."
   ]
  },
  {
   "cell_type": "code",
   "execution_count": 6,
   "metadata": {},
   "outputs": [
    {
     "data": {
      "text/plain": [
       "array([[ 1015., -1515.,  -500.],\n",
       "       [ 1140., -1390.,  -250.],\n",
       "       [ 1265., -1265.,     0.],\n",
       "       [ 1315., -1215.,   100.],\n",
       "       [  515., -2015., -1500.],\n",
       "       [ 1000., -1500.,  -500.],\n",
       "       [ 1000., -1250.,  -250.],\n",
       "       [  750.,  -750.,     0.],\n",
       "       [ 1500., -1400.,   100.],\n",
       "       [ 1000., -2500., -1500.]])"
      ]
     },
     "execution_count": 6,
     "metadata": {},
     "output_type": "execute_result"
    }
   ],
   "source": [
    "wsa = ['winter_balance', 'summer_balance', 'annual_balance']\n",
    "mb_downscaling.fill_balances(df[wsa])"
   ]
  },
  {
   "attachments": {},
   "cell_type": "markdown",
   "metadata": {},
   "source": [
    "## Downscale seasonal balances\n",
    "\n",
    "The function `downscale_balance_series` is a convenient wrapper around many of the other functions. Below, we use it to downscale our balances to daily resolution. Missing seasonal balances are filled using the method described above."
   ]
  },
  {
   "cell_type": "code",
   "execution_count": 7,
   "metadata": {},
   "outputs": [
    {
     "data": {
      "text/html": [
       "<div>\n",
       "<style scoped>\n",
       "    .dataframe tbody tr th:only-of-type {\n",
       "        vertical-align: middle;\n",
       "    }\n",
       "\n",
       "    .dataframe tbody tr th {\n",
       "        vertical-align: top;\n",
       "    }\n",
       "\n",
       "    .dataframe thead th {\n",
       "        text-align: right;\n",
       "    }\n",
       "</style>\n",
       "<table border=\"1\" class=\"dataframe\">\n",
       "  <thead>\n",
       "    <tr style=\"text-align: right;\">\n",
       "      <th></th>\n",
       "      <th>start</th>\n",
       "      <th>end</th>\n",
       "      <th>balance</th>\n",
       "    </tr>\n",
       "  </thead>\n",
       "  <tbody>\n",
       "    <tr>\n",
       "      <th>0</th>\n",
       "      <td>1999-10-01</td>\n",
       "      <td>1999-10-02</td>\n",
       "      <td>0.042065</td>\n",
       "    </tr>\n",
       "    <tr>\n",
       "      <th>1</th>\n",
       "      <td>1999-10-02</td>\n",
       "      <td>1999-10-03</td>\n",
       "      <td>0.126188</td>\n",
       "    </tr>\n",
       "    <tr>\n",
       "      <th>2</th>\n",
       "      <td>1999-10-03</td>\n",
       "      <td>1999-10-04</td>\n",
       "      <td>0.210290</td>\n",
       "    </tr>\n",
       "    <tr>\n",
       "      <th>3</th>\n",
       "      <td>1999-10-04</td>\n",
       "      <td>1999-10-05</td>\n",
       "      <td>0.294357</td>\n",
       "    </tr>\n",
       "    <tr>\n",
       "      <th>4</th>\n",
       "      <td>1999-10-05</td>\n",
       "      <td>1999-10-06</td>\n",
       "      <td>0.378375</td>\n",
       "    </tr>\n",
       "    <tr>\n",
       "      <th>...</th>\n",
       "      <td>...</td>\n",
       "      <td>...</td>\n",
       "      <td>...</td>\n",
       "    </tr>\n",
       "    <tr>\n",
       "      <th>3648</th>\n",
       "      <td>2009-09-26</td>\n",
       "      <td>2009-09-27</td>\n",
       "      <td>-3.741875</td>\n",
       "    </tr>\n",
       "    <tr>\n",
       "      <th>3649</th>\n",
       "      <td>2009-09-27</td>\n",
       "      <td>2009-09-28</td>\n",
       "      <td>-2.912938</td>\n",
       "    </tr>\n",
       "    <tr>\n",
       "      <th>3650</th>\n",
       "      <td>2009-09-28</td>\n",
       "      <td>2009-09-29</td>\n",
       "      <td>-2.082058</td>\n",
       "    </tr>\n",
       "    <tr>\n",
       "      <th>3651</th>\n",
       "      <td>2009-09-29</td>\n",
       "      <td>2009-09-30</td>\n",
       "      <td>-1.249790</td>\n",
       "    </tr>\n",
       "    <tr>\n",
       "      <th>3652</th>\n",
       "      <td>2009-09-30</td>\n",
       "      <td>2009-10-01</td>\n",
       "      <td>-0.416689</td>\n",
       "    </tr>\n",
       "  </tbody>\n",
       "</table>\n",
       "<p>3653 rows × 3 columns</p>\n",
       "</div>"
      ],
      "text/plain": [
       "          start        end   balance\n",
       "0    1999-10-01 1999-10-02  0.042065\n",
       "1    1999-10-02 1999-10-03  0.126188\n",
       "2    1999-10-03 1999-10-04  0.210290\n",
       "3    1999-10-04 1999-10-05  0.294357\n",
       "4    1999-10-05 1999-10-06  0.378375\n",
       "...         ...        ...       ...\n",
       "3648 2009-09-26 2009-09-27 -3.741875\n",
       "3649 2009-09-27 2009-09-28 -2.912938\n",
       "3650 2009-09-28 2009-09-29 -2.082058\n",
       "3651 2009-09-29 2009-09-30 -1.249790\n",
       "3652 2009-09-30 2009-10-01 -0.416689\n",
       "\n",
       "[3653 rows x 3 columns]"
      ]
     },
     "execution_count": 7,
     "metadata": {},
     "output_type": "execute_result"
    }
   ],
   "source": [
    "intervals, balances = mb_downscaling.downscale_balance_series(\n",
    "  years=df['year'],\n",
    "  balances=df[wsa],\n",
    "  winter_start=(10, 1),\n",
    "  winter_fraction=8/12,\n",
    "  interval_width=datetime.timedelta(days=1)\n",
    ")\n",
    "daily = pd.DataFrame({\n",
    "  'start': intervals[:, 0], 'end': intervals[:, 1], 'balance': balances\n",
    "})\n",
    "daily"
   ]
  },
  {
   "attachments": {},
   "cell_type": "markdown",
   "metadata": {},
   "source": [
    "Calculate the total daily balance over the entire record. It should be equal to the total annual balance for the same period."
   ]
  },
  {
   "cell_type": "code",
   "execution_count": 8,
   "metadata": {},
   "outputs": [
    {
     "name": "stdout",
     "output_type": "stream",
     "text": [
      "-4300 -4300.0\n"
     ]
    }
   ],
   "source": [
    "print(\n",
    "  df['annual_balance'].sum(),\n",
    "  daily['balance'].sum()\n",
    ")"
   ]
  },
  {
   "cell_type": "markdown",
   "metadata": {},
   "source": [
    "## Plot the results"
   ]
  },
  {
   "cell_type": "code",
   "execution_count": 9,
   "metadata": {},
   "outputs": [
    {
     "data": {
      "image/png": "[encoded data removed]",
      "text/plain": [
       "<Figure size 640x480 with 1 Axes>"
      ]
     },
     "metadata": {},
     "output_type": "display_data"
    }
   ],
   "source": [
    "plt.plot(daily['start'], daily['balance'])\n",
    "plt.ylabel('Daily mass balance')\n",
    "plt.xlabel('Time')\n",
    "plt.show()"
   ]
  },
  {
   "attachments": {},
   "cell_type": "markdown",
   "metadata": {},
   "source": [
    "_So long, and thanks for all the fish_ (Douglas Adams)"
   ]
  }
 ],
 "metadata": {
  "kernelspec": {
   "display_name": "Python 3",
   "language": "python",
   "name": "python3"
  },
  "language_info": {
   "codemirror_mode": {
    "name": "ipython",
    "version": 3
   },
   "file_extension": ".py",
   "mimetype": "text/x-python",
   "name": "python",
   "nbconvert_exporter": "python",
   "pygments_lexer": "ipython3",
   "version": "3.11.2"
  },
  "orig_nbformat": 4
 },
 "nbformat": 4,
 "nbformat_minor": 2
}
