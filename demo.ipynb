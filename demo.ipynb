{
 "cells": [
  {
   "attachments": {},
   "cell_type": "markdown",
   "metadata": {},
   "source": [
    "# Example usage\n",
    "\n",
    "Run this notebook locally or via free cloud platforms:\n",
    "\n",
    "[![Binder](https://mybinder.org/badge_logo.svg)](https://mybinder.org/v2/gh/wgms-org/mb-interpolation/improvements?labpath=demo.ipynb)"
   ]
  },
  {
   "attachments": {},
   "cell_type": "markdown",
   "metadata": {},
   "source": [
    "## Import functions"
   ]
  },
  {
   "cell_type": "code",
   "execution_count": 1,
   "metadata": {},
   "outputs": [],
   "source": [
    "import numpy as np\n",
    "import pandas as pd\n",
    "\n",
    "from mass_balance_interpolations import (\n",
    "  calc_mass_balance_amplitude,\n",
    "  interpolate_daily_balances\n",
    ")"
   ]
  },
  {
   "attachments": {},
   "cell_type": "markdown",
   "metadata": {},
   "source": [
    "## Create a test dataset"
   ]
  },
  {
   "cell_type": "code",
   "execution_count": 2,
   "metadata": {},
   "outputs": [
    {
     "data": {
      "text/html": [
       "<div>\n",
       "<style scoped>\n",
       "    .dataframe tbody tr th:only-of-type {\n",
       "        vertical-align: middle;\n",
       "    }\n",
       "\n",
       "    .dataframe tbody tr th {\n",
       "        vertical-align: top;\n",
       "    }\n",
       "\n",
       "    .dataframe thead th {\n",
       "        text-align: right;\n",
       "    }\n",
       "</style>\n",
       "<table border=\"1\" class=\"dataframe\">\n",
       "  <thead>\n",
       "    <tr style=\"text-align: right;\">\n",
       "      <th></th>\n",
       "      <th>Year</th>\n",
       "      <th>WINTER_BALANCE</th>\n",
       "      <th>SUMMER_BALANCE</th>\n",
       "      <th>ANNUAL_BALANCE</th>\n",
       "    </tr>\n",
       "  </thead>\n",
       "  <tbody>\n",
       "    <tr>\n",
       "      <th>0</th>\n",
       "      <td>2000</td>\n",
       "      <td>NaN</td>\n",
       "      <td>NaN</td>\n",
       "      <td>-500</td>\n",
       "    </tr>\n",
       "    <tr>\n",
       "      <th>1</th>\n",
       "      <td>2001</td>\n",
       "      <td>NaN</td>\n",
       "      <td>NaN</td>\n",
       "      <td>-250</td>\n",
       "    </tr>\n",
       "    <tr>\n",
       "      <th>2</th>\n",
       "      <td>2002</td>\n",
       "      <td>NaN</td>\n",
       "      <td>NaN</td>\n",
       "      <td>0</td>\n",
       "    </tr>\n",
       "    <tr>\n",
       "      <th>3</th>\n",
       "      <td>2003</td>\n",
       "      <td>NaN</td>\n",
       "      <td>NaN</td>\n",
       "      <td>100</td>\n",
       "    </tr>\n",
       "    <tr>\n",
       "      <th>4</th>\n",
       "      <td>2004</td>\n",
       "      <td>NaN</td>\n",
       "      <td>NaN</td>\n",
       "      <td>-1500</td>\n",
       "    </tr>\n",
       "    <tr>\n",
       "      <th>5</th>\n",
       "      <td>2005</td>\n",
       "      <td>1000.0</td>\n",
       "      <td>-1500.0</td>\n",
       "      <td>-500</td>\n",
       "    </tr>\n",
       "    <tr>\n",
       "      <th>6</th>\n",
       "      <td>2006</td>\n",
       "      <td>1000.0</td>\n",
       "      <td>-1250.0</td>\n",
       "      <td>-250</td>\n",
       "    </tr>\n",
       "    <tr>\n",
       "      <th>7</th>\n",
       "      <td>2007</td>\n",
       "      <td>750.0</td>\n",
       "      <td>-750.0</td>\n",
       "      <td>0</td>\n",
       "    </tr>\n",
       "    <tr>\n",
       "      <th>8</th>\n",
       "      <td>2008</td>\n",
       "      <td>1500.0</td>\n",
       "      <td>-1400.0</td>\n",
       "      <td>100</td>\n",
       "    </tr>\n",
       "    <tr>\n",
       "      <th>9</th>\n",
       "      <td>2009</td>\n",
       "      <td>1000.0</td>\n",
       "      <td>-2500.0</td>\n",
       "      <td>-1500</td>\n",
       "    </tr>\n",
       "  </tbody>\n",
       "</table>\n",
       "</div>"
      ],
      "text/plain": [
       "   Year  WINTER_BALANCE  SUMMER_BALANCE  ANNUAL_BALANCE\n",
       "0  2000             NaN             NaN            -500\n",
       "1  2001             NaN             NaN            -250\n",
       "2  2002             NaN             NaN               0\n",
       "3  2003             NaN             NaN             100\n",
       "4  2004             NaN             NaN           -1500\n",
       "5  2005          1000.0         -1500.0            -500\n",
       "6  2006          1000.0         -1250.0            -250\n",
       "7  2007           750.0          -750.0               0\n",
       "8  2008          1500.0         -1400.0             100\n",
       "9  2009          1000.0         -2500.0           -1500"
      ]
     },
     "execution_count": 2,
     "metadata": {},
     "output_type": "execute_result"
    }
   ],
   "source": [
    "columns=['Year', 'WINTER_BALANCE', 'SUMMER_BALANCE', 'ANNUAL_BALANCE']\n",
    "data = [\n",
    "  [2000, np.nan, np.nan, -500],\n",
    "  [2001, np.nan, np.nan, -250],\n",
    "  [2002, np.nan, np.nan, 0],\n",
    "  [2003, np.nan, np.nan, 100],\n",
    "  [2004, np.nan, np.nan, -1500],\n",
    "  [2005, 1000, -1500, -500],\n",
    "  [2006, 1000, -1250, -250],\n",
    "  [2007, 750, -750, 0],\n",
    "  [2008, 1500, -1400, 100],\n",
    "  [2009, 1000, -2500, -1500]\n",
    "]\n",
    "df = pd.DataFrame(data, columns=columns)\n",
    "df"
   ]
  },
  {
   "attachments": {},
   "cell_type": "markdown",
   "metadata": {},
   "source": [
    "## Calculate key statistics"
   ]
  },
  {
   "attachments": {},
   "cell_type": "markdown",
   "metadata": {},
   "source": [
    "Number of annual observations:"
   ]
  },
  {
   "cell_type": "code",
   "execution_count": 3,
   "metadata": {},
   "outputs": [
    {
     "data": {
      "text/plain": [
       "10"
      ]
     },
     "execution_count": 3,
     "metadata": {},
     "output_type": "execute_result"
    }
   ],
   "source": [
    "len(df)"
   ]
  },
  {
   "attachments": {},
   "cell_type": "markdown",
   "metadata": {},
   "source": [
    "Mean balances:"
   ]
  },
  {
   "cell_type": "code",
   "execution_count": 4,
   "metadata": {},
   "outputs": [
    {
     "data": {
      "text/plain": [
       "Year              2004.5\n",
       "WINTER_BALANCE    1050.0\n",
       "SUMMER_BALANCE   -1480.0\n",
       "ANNUAL_BALANCE    -430.0\n",
       "dtype: float64"
      ]
     },
     "execution_count": 4,
     "metadata": {},
     "output_type": "execute_result"
    }
   ],
   "source": [
    "df.mean()"
   ]
  },
  {
   "attachments": {},
   "cell_type": "markdown",
   "metadata": {},
   "source": [
    "Mass balance amplitude:"
   ]
  },
  {
   "cell_type": "code",
   "execution_count": 5,
   "metadata": {},
   "outputs": [
    {
     "data": {
      "text/plain": [
       "1265.0"
      ]
     },
     "execution_count": 5,
     "metadata": {},
     "output_type": "execute_result"
    }
   ],
   "source": [
    "calc_mass_balance_amplitude(df)"
   ]
  },
  {
   "attachments": {},
   "cell_type": "markdown",
   "metadata": {},
   "source": [
    "Total annual balance:"
   ]
  },
  {
   "cell_type": "code",
   "execution_count": 6,
   "metadata": {},
   "outputs": [
    {
     "data": {
      "text/plain": [
       "-4300"
      ]
     },
     "execution_count": 6,
     "metadata": {},
     "output_type": "execute_result"
    }
   ],
   "source": [
    "df['ANNUAL_BALANCE'].sum()"
   ]
  },
  {
   "attachments": {},
   "cell_type": "markdown",
   "metadata": {},
   "source": [
    "## Interpolate mass balance\n",
    "\n",
    "Interpolate daily balances, based on seasonal balances if available, else based on annual balance and amplitude."
   ]
  },
  {
   "cell_type": "code",
   "execution_count": 8,
   "metadata": {},
   "outputs": [
    {
     "data": {
      "text/html": [
       "<div>\n",
       "<style scoped>\n",
       "    .dataframe tbody tr th:only-of-type {\n",
       "        vertical-align: middle;\n",
       "    }\n",
       "\n",
       "    .dataframe tbody tr th {\n",
       "        vertical-align: top;\n",
       "    }\n",
       "\n",
       "    .dataframe thead th {\n",
       "        text-align: right;\n",
       "    }\n",
       "</style>\n",
       "<table border=\"1\" class=\"dataframe\">\n",
       "  <thead>\n",
       "    <tr style=\"text-align: right;\">\n",
       "      <th></th>\n",
       "      <th>BALANCE</th>\n",
       "    </tr>\n",
       "    <tr>\n",
       "      <th>DATE</th>\n",
       "      <th></th>\n",
       "    </tr>\n",
       "  </thead>\n",
       "  <tbody>\n",
       "    <tr>\n",
       "      <th>1999-10-01</th>\n",
       "      <td>-1.310241</td>\n",
       "    </tr>\n",
       "    <tr>\n",
       "      <th>1999-10-02</th>\n",
       "      <td>-1.198491</td>\n",
       "    </tr>\n",
       "    <tr>\n",
       "      <th>1999-10-03</th>\n",
       "      <td>-1.086770</td>\n",
       "    </tr>\n",
       "    <tr>\n",
       "      <th>1999-10-04</th>\n",
       "      <td>-0.975094</td>\n",
       "    </tr>\n",
       "    <tr>\n",
       "      <th>1999-10-05</th>\n",
       "      <td>-0.863484</td>\n",
       "    </tr>\n",
       "    <tr>\n",
       "      <th>...</th>\n",
       "      <td>...</td>\n",
       "    </tr>\n",
       "    <tr>\n",
       "      <th>2009-09-26</th>\n",
       "      <td>-3.741875</td>\n",
       "    </tr>\n",
       "    <tr>\n",
       "      <th>2009-09-27</th>\n",
       "      <td>-2.912938</td>\n",
       "    </tr>\n",
       "    <tr>\n",
       "      <th>2009-09-28</th>\n",
       "      <td>-2.082058</td>\n",
       "    </tr>\n",
       "    <tr>\n",
       "      <th>2009-09-29</th>\n",
       "      <td>-1.249790</td>\n",
       "    </tr>\n",
       "    <tr>\n",
       "      <th>2009-09-30</th>\n",
       "      <td>-0.416689</td>\n",
       "    </tr>\n",
       "  </tbody>\n",
       "</table>\n",
       "<p>3653 rows × 1 columns</p>\n",
       "</div>"
      ],
      "text/plain": [
       "             BALANCE\n",
       "DATE                \n",
       "1999-10-01 -1.310241\n",
       "1999-10-02 -1.198491\n",
       "1999-10-03 -1.086770\n",
       "1999-10-04 -0.975094\n",
       "1999-10-05 -0.863484\n",
       "...              ...\n",
       "2009-09-26 -3.741875\n",
       "2009-09-27 -2.912938\n",
       "2009-09-28 -2.082058\n",
       "2009-09-29 -1.249790\n",
       "2009-09-30 -0.416689\n",
       "\n",
       "[3653 rows x 1 columns]"
      ]
     },
     "execution_count": 8,
     "metadata": {},
     "output_type": "execute_result"
    }
   ],
   "source": [
    "daily = interpolate_daily_balances(\n",
    "  df,\n",
    "  alpha=calc_mass_balance_amplitude(df),\n",
    "  winter_fraction=8/12\n",
    ")\n",
    "daily"
   ]
  },
  {
   "attachments": {},
   "cell_type": "markdown",
   "metadata": {},
   "source": [
    "Calculate the total daily balance over the entire record. It should be equal to the total annual balance calculated above for the same period."
   ]
  },
  {
   "cell_type": "code",
   "execution_count": 9,
   "metadata": {},
   "outputs": [
    {
     "data": {
      "text/plain": [
       "-4300.0"
      ]
     },
     "execution_count": 9,
     "metadata": {},
     "output_type": "execute_result"
    }
   ],
   "source": [
    "daily['BALANCE'].sum()"
   ]
  },
  {
   "attachments": {},
   "cell_type": "markdown",
   "metadata": {},
   "source": [
    "_So long, and thanks for all the fish_ (Douglas Adams)"
   ]
  }
 ],
 "metadata": {
  "kernelspec": {
   "display_name": "Python 3",
   "language": "python",
   "name": "python3"
  },
  "language_info": {
   "codemirror_mode": {
    "name": "ipython",
    "version": 3
   },
   "file_extension": ".py",
   "mimetype": "text/x-python",
   "name": "python",
   "nbconvert_exporter": "python",
   "pygments_lexer": "ipython3",
   "version": "3.11.2"
  },
  "orig_nbformat": 4
 },
 "nbformat": 4,
 "nbformat_minor": 2
}
